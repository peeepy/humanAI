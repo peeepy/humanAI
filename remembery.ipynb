{
 "cells": [
  {
   "cell_type": "markdown",
   "metadata": {},
   "source": [
    "# Vector DB used as Memory Demo"
   ]
  },
  {
   "cell_type": "code",
   "execution_count": 1,
   "metadata": {},
   "outputs": [
    {
     "name": "stdout",
     "output_type": "stream",
     "text": [
      "Collecting chromadb==0.3.26 (from -r requirements.txt (line 1))\n",
      "  Using cached chromadb-0.3.26-py3-none-any.whl (123 kB)\n",
      "Collecting langchain==0.0.271 (from -r requirements.txt (line 2))\n",
      "  Using cached langchain-0.0.271-py3-none-any.whl (1.5 MB)\n",
      "Requirement already satisfied: pandas>=1.3 in c:\\users\\poppy\\instructblip-streamlit\\installer_files\\env\\lib\\site-packages (from chromadb==0.3.26->-r requirements.txt (line 1)) (2.0.3)\n",
      "Requirement already satisfied: requests>=2.28 in c:\\users\\poppy\\instructblip-streamlit\\installer_files\\env\\lib\\site-packages (from chromadb==0.3.26->-r requirements.txt (line 1)) (2.31.0)\n",
      "Requirement already satisfied: pydantic>=1.9 in c:\\users\\poppy\\instructblip-streamlit\\installer_files\\env\\lib\\site-packages (from chromadb==0.3.26->-r requirements.txt (line 1)) (1.10.12)\n",
      "Collecting hnswlib>=0.7 (from chromadb==0.3.26->-r requirements.txt (line 1))\n",
      "  Using cached hnswlib-0.7.0-cp310-cp310-win_amd64.whl\n",
      "Collecting clickhouse-connect>=0.5.7 (from chromadb==0.3.26->-r requirements.txt (line 1))\n",
      "  Downloading clickhouse_connect-0.6.11-cp310-cp310-win_amd64.whl (227 kB)\n",
      "     -------------------------------------- 227.7/227.7 kB 1.7 MB/s eta 0:00:00\n",
      "Collecting duckdb>=0.7.1 (from chromadb==0.3.26->-r requirements.txt (line 1))\n",
      "  Using cached duckdb-0.8.1-cp310-cp310-win_amd64.whl (9.8 MB)\n",
      "Requirement already satisfied: fastapi>=0.85.1 in c:\\users\\poppy\\instructblip-streamlit\\installer_files\\env\\lib\\site-packages (from chromadb==0.3.26->-r requirements.txt (line 1)) (0.95.2)\n",
      "Requirement already satisfied: uvicorn[standard]>=0.18.3 in c:\\users\\poppy\\instructblip-streamlit\\installer_files\\env\\lib\\site-packages (from chromadb==0.3.26->-r requirements.txt (line 1)) (0.23.1)\n",
      "Requirement already satisfied: numpy>=1.21.6 in c:\\users\\poppy\\instructblip-streamlit\\installer_files\\env\\lib\\site-packages (from chromadb==0.3.26->-r requirements.txt (line 1)) (1.24.4)\n",
      "Collecting posthog>=2.4.0 (from chromadb==0.3.26->-r requirements.txt (line 1))\n",
      "  Downloading posthog-3.0.2-py2.py3-none-any.whl (37 kB)\n",
      "Requirement already satisfied: typing-extensions>=4.5.0 in c:\\users\\poppy\\instructblip-streamlit\\installer_files\\env\\lib\\site-packages (from chromadb==0.3.26->-r requirements.txt (line 1)) (4.7.1)\n",
      "Collecting pulsar-client>=3.1.0 (from chromadb==0.3.26->-r requirements.txt (line 1))\n",
      "  Downloading pulsar_client-3.3.0-cp310-cp310-win_amd64.whl (3.4 MB)\n",
      "     ---------------------------------------- 3.4/3.4 MB 8.1 MB/s eta 0:00:00\n",
      "Collecting onnxruntime>=1.14.1 (from chromadb==0.3.26->-r requirements.txt (line 1))\n",
      "  Using cached onnxruntime-1.15.1-cp310-cp310-win_amd64.whl (6.7 MB)\n",
      "Requirement already satisfied: tokenizers>=0.13.2 in c:\\users\\poppy\\instructblip-streamlit\\installer_files\\env\\lib\\site-packages (from chromadb==0.3.26->-r requirements.txt (line 1)) (0.13.3)\n",
      "Requirement already satisfied: tqdm>=4.65.0 in c:\\users\\poppy\\instructblip-streamlit\\installer_files\\env\\lib\\site-packages (from chromadb==0.3.26->-r requirements.txt (line 1)) (4.65.0)\n",
      "Collecting overrides>=7.3.1 (from chromadb==0.3.26->-r requirements.txt (line 1))\n",
      "  Downloading overrides-7.4.0-py3-none-any.whl (17 kB)\n",
      "Requirement already satisfied: PyYAML>=5.3 in c:\\users\\poppy\\instructblip-streamlit\\installer_files\\env\\lib\\site-packages (from langchain==0.0.271->-r requirements.txt (line 2)) (6.0.1)\n",
      "Requirement already satisfied: SQLAlchemy<3,>=1.4 in c:\\users\\poppy\\instructblip-streamlit\\installer_files\\env\\lib\\site-packages (from langchain==0.0.271->-r requirements.txt (line 2)) (2.0.19)\n",
      "Requirement already satisfied: aiohttp<4.0.0,>=3.8.3 in c:\\users\\poppy\\instructblip-streamlit\\installer_files\\env\\lib\\site-packages (from langchain==0.0.271->-r requirements.txt (line 2)) (3.8.5)\n",
      "Requirement already satisfied: async-timeout<5.0.0,>=4.0.0 in c:\\users\\poppy\\instructblip-streamlit\\installer_files\\env\\lib\\site-packages (from langchain==0.0.271->-r requirements.txt (line 2)) (4.0.2)\n",
      "Requirement already satisfied: dataclasses-json<0.6.0,>=0.5.7 in c:\\users\\poppy\\instructblip-streamlit\\installer_files\\env\\lib\\site-packages (from langchain==0.0.271->-r requirements.txt (line 2)) (0.5.13)\n",
      "Collecting langsmith<0.1.0,>=0.0.21 (from langchain==0.0.271->-r requirements.txt (line 2))\n",
      "  Using cached langsmith-0.0.33-py3-none-any.whl (36 kB)\n",
      "Requirement already satisfied: numexpr<3.0.0,>=2.8.4 in c:\\users\\poppy\\instructblip-streamlit\\installer_files\\env\\lib\\site-packages (from langchain==0.0.271->-r requirements.txt (line 2)) (2.8.4)\n",
      "Requirement already satisfied: tenacity<9.0.0,>=8.1.0 in c:\\users\\poppy\\instructblip-streamlit\\installer_files\\env\\lib\\site-packages (from langchain==0.0.271->-r requirements.txt (line 2)) (8.2.2)\n",
      "Requirement already satisfied: attrs>=17.3.0 in c:\\users\\poppy\\instructblip-streamlit\\installer_files\\env\\lib\\site-packages (from aiohttp<4.0.0,>=3.8.3->langchain==0.0.271->-r requirements.txt (line 2)) (23.1.0)\n",
      "Requirement already satisfied: charset-normalizer<4.0,>=2.0 in c:\\users\\poppy\\instructblip-streamlit\\installer_files\\env\\lib\\site-packages (from aiohttp<4.0.0,>=3.8.3->langchain==0.0.271->-r requirements.txt (line 2)) (2.1.1)\n",
      "Requirement already satisfied: multidict<7.0,>=4.5 in c:\\users\\poppy\\instructblip-streamlit\\installer_files\\env\\lib\\site-packages (from aiohttp<4.0.0,>=3.8.3->langchain==0.0.271->-r requirements.txt (line 2)) (6.0.4)\n",
      "Requirement already satisfied: yarl<2.0,>=1.0 in c:\\users\\poppy\\instructblip-streamlit\\installer_files\\env\\lib\\site-packages (from aiohttp<4.0.0,>=3.8.3->langchain==0.0.271->-r requirements.txt (line 2)) (1.9.2)\n",
      "Requirement already satisfied: frozenlist>=1.1.1 in c:\\users\\poppy\\instructblip-streamlit\\installer_files\\env\\lib\\site-packages (from aiohttp<4.0.0,>=3.8.3->langchain==0.0.271->-r requirements.txt (line 2)) (1.4.0)\n",
      "Requirement already satisfied: aiosignal>=1.1.2 in c:\\users\\poppy\\instructblip-streamlit\\installer_files\\env\\lib\\site-packages (from aiohttp<4.0.0,>=3.8.3->langchain==0.0.271->-r requirements.txt (line 2)) (1.3.1)\n",
      "Requirement already satisfied: certifi in c:\\users\\poppy\\instructblip-streamlit\\installer_files\\env\\lib\\site-packages (from clickhouse-connect>=0.5.7->chromadb==0.3.26->-r requirements.txt (line 1)) (2022.12.7)\n",
      "Requirement already satisfied: urllib3>=1.26 in c:\\users\\poppy\\instructblip-streamlit\\installer_files\\env\\lib\\site-packages (from clickhouse-connect>=0.5.7->chromadb==0.3.26->-r requirements.txt (line 1)) (1.26.13)\n",
      "Requirement already satisfied: pytz in c:\\users\\poppy\\instructblip-streamlit\\installer_files\\env\\lib\\site-packages (from clickhouse-connect>=0.5.7->chromadb==0.3.26->-r requirements.txt (line 1)) (2023.3)\n",
      "Collecting zstandard (from clickhouse-connect>=0.5.7->chromadb==0.3.26->-r requirements.txt (line 1))\n",
      "  Downloading zstandard-0.21.0-cp310-cp310-win_amd64.whl (511 kB)\n",
      "     -------------------------------------- 511.3/511.3 kB 6.4 MB/s eta 0:00:00\n",
      "Collecting lz4 (from clickhouse-connect>=0.5.7->chromadb==0.3.26->-r requirements.txt (line 1))\n",
      "  Using cached lz4-4.3.2-cp310-cp310-win_amd64.whl (99 kB)\n",
      "Requirement already satisfied: marshmallow<4.0.0,>=3.18.0 in c:\\users\\poppy\\instructblip-streamlit\\installer_files\\env\\lib\\site-packages (from dataclasses-json<0.6.0,>=0.5.7->langchain==0.0.271->-r requirements.txt (line 2)) (3.20.1)\n",
      "Requirement already satisfied: typing-inspect<1,>=0.4.0 in c:\\users\\poppy\\instructblip-streamlit\\installer_files\\env\\lib\\site-packages (from dataclasses-json<0.6.0,>=0.5.7->langchain==0.0.271->-r requirements.txt (line 2)) (0.9.0)\n",
      "Requirement already satisfied: starlette<0.28.0,>=0.27.0 in c:\\users\\poppy\\instructblip-streamlit\\installer_files\\env\\lib\\site-packages (from fastapi>=0.85.1->chromadb==0.3.26->-r requirements.txt (line 1)) (0.27.0)\n",
      "Collecting coloredlogs (from onnxruntime>=1.14.1->chromadb==0.3.26->-r requirements.txt (line 1))\n",
      "  Using cached coloredlogs-15.0.1-py2.py3-none-any.whl (46 kB)\n",
      "Collecting flatbuffers (from onnxruntime>=1.14.1->chromadb==0.3.26->-r requirements.txt (line 1))\n",
      "  Using cached flatbuffers-23.5.26-py2.py3-none-any.whl (26 kB)\n",
      "Requirement already satisfied: packaging in c:\\users\\poppy\\instructblip-streamlit\\installer_files\\env\\lib\\site-packages (from onnxruntime>=1.14.1->chromadb==0.3.26->-r requirements.txt (line 1)) (23.1)\n",
      "Requirement already satisfied: protobuf in c:\\users\\poppy\\instructblip-streamlit\\installer_files\\env\\lib\\site-packages (from onnxruntime>=1.14.1->chromadb==0.3.26->-r requirements.txt (line 1)) (4.23.4)\n",
      "Requirement already satisfied: sympy in c:\\users\\poppy\\instructblip-streamlit\\installer_files\\env\\lib\\site-packages (from onnxruntime>=1.14.1->chromadb==0.3.26->-r requirements.txt (line 1)) (1.11.1)\n",
      "Requirement already satisfied: python-dateutil>=2.8.2 in c:\\users\\poppy\\instructblip-streamlit\\installer_files\\env\\lib\\site-packages (from pandas>=1.3->chromadb==0.3.26->-r requirements.txt (line 1)) (2.8.2)\n",
      "Requirement already satisfied: tzdata>=2022.1 in c:\\users\\poppy\\instructblip-streamlit\\installer_files\\env\\lib\\site-packages (from pandas>=1.3->chromadb==0.3.26->-r requirements.txt (line 1)) (2023.3)\n",
      "Requirement already satisfied: six>=1.5 in c:\\users\\poppy\\instructblip-streamlit\\installer_files\\env\\lib\\site-packages (from posthog>=2.4.0->chromadb==0.3.26->-r requirements.txt (line 1)) (1.16.0)\n",
      "Collecting monotonic>=1.5 (from posthog>=2.4.0->chromadb==0.3.26->-r requirements.txt (line 1))\n",
      "  Using cached monotonic-1.6-py2.py3-none-any.whl (8.2 kB)\n",
      "Collecting backoff>=1.10.0 (from posthog>=2.4.0->chromadb==0.3.26->-r requirements.txt (line 1))\n",
      "  Using cached backoff-2.2.1-py3-none-any.whl (15 kB)\n",
      "Requirement already satisfied: idna<4,>=2.5 in c:\\users\\poppy\\instructblip-streamlit\\installer_files\\env\\lib\\site-packages (from requests>=2.28->chromadb==0.3.26->-r requirements.txt (line 1)) (3.4)\n",
      "Requirement already satisfied: greenlet!=0.4.17 in c:\\users\\poppy\\instructblip-streamlit\\installer_files\\env\\lib\\site-packages (from SQLAlchemy<3,>=1.4->langchain==0.0.271->-r requirements.txt (line 2)) (2.0.2)\n",
      "Requirement already satisfied: colorama in c:\\users\\poppy\\instructblip-streamlit\\installer_files\\env\\lib\\site-packages (from tqdm>=4.65.0->chromadb==0.3.26->-r requirements.txt (line 1)) (0.4.6)\n",
      "Requirement already satisfied: click>=7.0 in c:\\users\\poppy\\instructblip-streamlit\\installer_files\\env\\lib\\site-packages (from uvicorn[standard]>=0.18.3->chromadb==0.3.26->-r requirements.txt (line 1)) (8.1.6)\n",
      "Requirement already satisfied: h11>=0.8 in c:\\users\\poppy\\instructblip-streamlit\\installer_files\\env\\lib\\site-packages (from uvicorn[standard]>=0.18.3->chromadb==0.3.26->-r requirements.txt (line 1)) (0.14.0)\n",
      "Collecting httptools>=0.5.0 (from uvicorn[standard]>=0.18.3->chromadb==0.3.26->-r requirements.txt (line 1))\n",
      "  Downloading httptools-0.6.0-cp310-cp310-win_amd64.whl (145 kB)\n",
      "     -------------------------------------- 145.4/145.4 kB 4.4 MB/s eta 0:00:00\n",
      "Collecting python-dotenv>=0.13 (from uvicorn[standard]>=0.18.3->chromadb==0.3.26->-r requirements.txt (line 1))\n",
      "  Using cached python_dotenv-1.0.0-py3-none-any.whl (19 kB)\n",
      "Collecting watchfiles>=0.13 (from uvicorn[standard]>=0.18.3->chromadb==0.3.26->-r requirements.txt (line 1))\n",
      "  Downloading watchfiles-0.20.0-cp37-abi3-win_amd64.whl (276 kB)\n",
      "     -------------------------------------- 276.7/276.7 kB 8.6 MB/s eta 0:00:00\n",
      "Requirement already satisfied: websockets>=10.4 in c:\\users\\poppy\\instructblip-streamlit\\installer_files\\env\\lib\\site-packages (from uvicorn[standard]>=0.18.3->chromadb==0.3.26->-r requirements.txt (line 1)) (11.0.2)\n",
      "Requirement already satisfied: anyio<5,>=3.4.0 in c:\\users\\poppy\\instructblip-streamlit\\installer_files\\env\\lib\\site-packages (from starlette<0.28.0,>=0.27.0->fastapi>=0.85.1->chromadb==0.3.26->-r requirements.txt (line 1)) (3.7.1)\n",
      "Requirement already satisfied: mypy-extensions>=0.3.0 in c:\\users\\poppy\\instructblip-streamlit\\installer_files\\env\\lib\\site-packages (from typing-inspect<1,>=0.4.0->dataclasses-json<0.6.0,>=0.5.7->langchain==0.0.271->-r requirements.txt (line 2)) (1.0.0)\n",
      "Collecting humanfriendly>=9.1 (from coloredlogs->onnxruntime>=1.14.1->chromadb==0.3.26->-r requirements.txt (line 1))\n",
      "  Using cached humanfriendly-10.0-py2.py3-none-any.whl (86 kB)\n",
      "Requirement already satisfied: mpmath>=0.19 in c:\\users\\poppy\\instructblip-streamlit\\installer_files\\env\\lib\\site-packages (from sympy->onnxruntime>=1.14.1->chromadb==0.3.26->-r requirements.txt (line 1)) (1.2.1)\n",
      "Requirement already satisfied: sniffio>=1.1 in c:\\users\\poppy\\instructblip-streamlit\\installer_files\\env\\lib\\site-packages (from anyio<5,>=3.4.0->starlette<0.28.0,>=0.27.0->fastapi>=0.85.1->chromadb==0.3.26->-r requirements.txt (line 1)) (1.3.0)\n",
      "Requirement already satisfied: exceptiongroup in c:\\users\\poppy\\instructblip-streamlit\\installer_files\\env\\lib\\site-packages (from anyio<5,>=3.4.0->starlette<0.28.0,>=0.27.0->fastapi>=0.85.1->chromadb==0.3.26->-r requirements.txt (line 1)) (1.1.2)\n",
      "Collecting pyreadline3 (from humanfriendly>=9.1->coloredlogs->onnxruntime>=1.14.1->chromadb==0.3.26->-r requirements.txt (line 1))\n",
      "  Using cached pyreadline3-3.4.1-py3-none-any.whl (95 kB)\n",
      "Installing collected packages: pyreadline3, monotonic, flatbuffers, duckdb, zstandard, python-dotenv, pulsar-client, overrides, lz4, humanfriendly, httptools, hnswlib, backoff, watchfiles, posthog, langsmith, coloredlogs, clickhouse-connect, onnxruntime, langchain, chromadb\n",
      "  Attempting uninstall: langsmith\n",
      "    Found existing installation: langsmith 0.0.14\n",
      "    Uninstalling langsmith-0.0.14:\n",
      "      Successfully uninstalled langsmith-0.0.14\n",
      "  Attempting uninstall: langchain\n",
      "    Found existing installation: langchain 0.0.240\n",
      "    Uninstalling langchain-0.0.240:\n",
      "      Successfully uninstalled langchain-0.0.240\n",
      "Successfully installed backoff-2.2.1 chromadb-0.3.26 clickhouse-connect-0.6.11 coloredlogs-15.0.1 duckdb-0.8.1 flatbuffers-23.5.26 hnswlib-0.7.0 httptools-0.6.0 humanfriendly-10.0 langchain-0.0.271 langsmith-0.0.33 lz4-4.3.2 monotonic-1.6 onnxruntime-1.15.1 overrides-7.4.0 posthog-3.0.2 pulsar-client-3.3.0 pyreadline3-3.4.1 python-dotenv-1.0.0 watchfiles-0.20.0 zstandard-0.21.0\n"
     ]
    }
   ],
   "source": [
    "!pip install -r requirements.txt"
   ]
  },
  {
   "cell_type": "code",
   "execution_count": 2,
   "metadata": {},
   "outputs": [],
   "source": [
    "from modules.memory import Memory"
   ]
  },
  {
   "cell_type": "code",
   "execution_count": 3,
   "metadata": {},
   "outputs": [
    {
     "name": "stdout",
     "output_type": "stream",
     "text": [
      "Collection 'my_collection' is ready.\n"
     ]
    }
   ],
   "source": [
    "memories = Memory(name=\"my_collection\", db_directory=\"my_db_directory\")"
   ]
  },
  {
   "cell_type": "markdown",
   "metadata": {},
   "source": [
    "# Add memories"
   ]
  },
  {
   "cell_type": "code",
   "execution_count": 7,
   "metadata": {},
   "outputs": [
    {
     "name": "stderr",
     "output_type": "stream",
     "text": [
      "Number of requested results 5 is greater than number of elements in index 3, updating n_results = 3\n",
      "Number of requested results 5 is greater than number of elements in index 4, updating n_results = 4\n",
      "Number of requested results 5 is greater than number of elements in index 4, updating n_results = 4\n"
     ]
    },
    {
     "name": "stdout",
     "output_type": "stream",
     "text": [
      "Message 'Austin: My birthday is October 24th' added to database.\n",
      "Message 'Austin: I work at a car auction as an IT guy' is already in database. Skipped.\n",
      "Message 'Austin: My favorite food is steak' is already in database. Skipped.\n"
     ]
    }
   ],
   "source": [
    "# # Save some messages to the database\n",
    "messages = [\"Austin: My birthday is October 24th\", \"Austin: I work at a car auction as an IT guy\", \"Austin: My favorite food is steak\"]\n",
    "memories.save_messages_to_db(messages)"
   ]
  },
  {
   "cell_type": "markdown",
   "metadata": {},
   "source": [
    "# Query the database"
   ]
  },
  {
   "cell_type": "code",
   "execution_count": 8,
   "metadata": {},
   "outputs": [
    {
     "name": "stderr",
     "output_type": "stream",
     "text": [
      "Number of requested results 5 is greater than number of elements in index 4, updating n_results = 4\n"
     ]
    },
    {
     "name": "stdout",
     "output_type": "stream",
     "text": [
      "Query results for 'Austin: Do you know my birthday?': {'ids': [['id1b5872ad-1df8-4aeb-a64e-3225237f937b', 'id77a1c9e1-5069-4325-8fd9-f54eadcd927a', 'idcacc6fa6-8108-4b27-8800-b33f7076bba4', 'idc6079b79-73df-444e-acfb-faa595464ce1']], 'embeddings': None, 'documents': [['Austin: My birthday is October 24th', 'Austin: My Birtday is October 24th', 'Austin: My favorite food is Steak', 'Austin: I work at a car Auction as an IT Guy']], 'metadatas': [[None, None, None, None]], 'distances': [[0.35002532601356506, 0.5655494928359985, 1.0889947414398193, 1.1685662269592285]]}\n"
     ]
    }
   ],
   "source": [
    "query_text = \"Austin: Do you know my birthday?\"\n",
    "results = memories.query_db(query_text)\n",
    "print(f\"Query results for '{query_text}': {results}\")"
   ]
  },
  {
   "cell_type": "code",
   "execution_count": 9,
   "metadata": {},
   "outputs": [
    {
     "name": "stderr",
     "output_type": "stream",
     "text": [
      "Number of requested results 5 is greater than number of elements in index 4, updating n_results = 4\n"
     ]
    },
    {
     "data": {
      "text/plain": [
       "'Austin: My birthday is October 24th'"
      ]
     },
     "execution_count": 9,
     "metadata": {},
     "output_type": "execute_result"
    }
   ],
   "source": [
    "results_with_cutoff = memories.query_with_cutoff(\"Austin: When is my birthday?\", 0.5)\n",
    "results_with_cutoff"
   ]
  },
  {
   "cell_type": "code",
   "execution_count": 10,
   "metadata": {},
   "outputs": [
    {
     "name": "stdout",
     "output_type": "stream",
     "text": [
      "Austin asked:\n",
      "Austin: Do you know my birthday? \n",
      "Remembered:\n",
      "Austin: My birthday is October 24th\n"
     ]
    }
   ],
   "source": [
    "first_result = results['documents'][0][0]\n",
    "print(f\"Austin asked:\\n{query_text} \\nRemembered:\\n{first_result}\")\n"
   ]
  },
  {
   "cell_type": "code",
   "execution_count": 11,
   "metadata": {},
   "outputs": [],
   "source": [
    "def query_with_cutoff(self, query_text, cutoff):\n",
    "    results = self.query_db(query_text)\n",
    "    if not results or not results['distances']:\n",
    "        return \"Nothing found.\"\n",
    "\n",
    "    closest_distance = results['distances'][0][0]\n",
    "    if closest_distance > cutoff:\n",
    "        return \"Nothing found.\"\n",
    "\n",
    "    closest_result = results['documents'][0][0]\n",
    "    return closest_result\n"
   ]
  },
  {
   "cell_type": "code",
   "execution_count": 12,
   "metadata": {},
   "outputs": [],
   "source": [
    "# import wrapper\n",
    "from langchain.llms import TextGen\n",
    "from langchain.memory import ConversationBufferMemory\n",
    "from langchain import PromptTemplate\n",
    "from langchain.chains import (\n",
    "    ConversationChain\n",
    ")"
   ]
  },
  {
   "cell_type": "code",
   "execution_count": 13,
   "metadata": {},
   "outputs": [],
   "source": [
    "# create instance with your endpoint\n",
    "llm = TextGen(model_url=\"http://127.0.0.1:7861/\")"
   ]
  },
  {
   "cell_type": "code",
   "execution_count": 14,
   "metadata": {},
   "outputs": [
    {
     "name": "stdout",
     "output_type": "stream",
     "text": [
      "Question: What is the capital of France?\n",
      "Answer: The capital city of France is Paris.\n"
     ]
    },
    {
     "data": {
      "text/plain": [
       "' The capital city of France is Paris.'"
      ]
     },
     "execution_count": 14,
     "metadata": {},
     "output_type": "execute_result"
    }
   ],
   "source": [
    "llm(\"Question: What is the capital of France?\\nAnswer:\")"
   ]
  },
  {
   "cell_type": "code",
   "execution_count": 15,
   "metadata": {},
   "outputs": [],
   "source": [
    "injected_memory = \"\"\n",
    "template = f\"\"\"You are a chatbot having a conversation with a human.\n",
    "{injected_memory}\n",
    "{{history}}\n",
    "Austin: {{input}}\n",
    "Chatbot:\"\"\""
   ]
  },
  {
   "cell_type": "code",
   "execution_count": 16,
   "metadata": {},
   "outputs": [],
   "source": [
    "#function that will query the memory object db for the user's input and return the results if found. If not found, it will return an empty string.\n",
    "def memory_find(query_text):\n",
    "    results = memories.query_db(query_text)\n",
    "    if results:\n",
    "        result = f\"[Memory - {results['documents'][0][0]}]\\n\"\n",
    "        return result\n",
    "    else:\n",
    "        return \"\"\n",
    "    "
   ]
  },
  {
   "cell_type": "code",
   "execution_count": 17,
   "metadata": {},
   "outputs": [],
   "source": [
    "memory = ConversationBufferMemory(input_key=\"history\", human_prefix=\"Austin\")"
   ]
  },
  {
   "cell_type": "code",
   "execution_count": 18,
   "metadata": {},
   "outputs": [],
   "source": [
    "\n",
    "prompt = PromptTemplate(\n",
    "    input_variables=[\"history\",\"input\"], template=template\n",
    ")"
   ]
  },
  {
   "cell_type": "code",
   "execution_count": 19,
   "metadata": {},
   "outputs": [],
   "source": [
    " # Create a conversation chain using the channel-specific memory\n",
    "conversation = ConversationChain(\n",
    "    prompt=prompt,\n",
    "    llm=llm,\n",
    "    verbose=True,\n",
    "    memory=memory,\n",
    ")"
   ]
  },
  {
   "cell_type": "code",
   "execution_count": 20,
   "metadata": {},
   "outputs": [
    {
     "ename": "KeyboardInterrupt",
     "evalue": "Interrupted by user",
     "output_type": "error",
     "traceback": [
      "\u001b[1;31m---------------------------------------------------------------------------\u001b[0m",
      "\u001b[1;31mKeyboardInterrupt\u001b[0m                         Traceback (most recent call last)",
      "\u001b[1;32md:\\humanAI\\remembery.ipynb Cell 20\u001b[0m line \u001b[0;36m1\n\u001b[1;32m----> <a href='vscode-notebook-cell:/d%3A/humanAI/remembery.ipynb#X24sZmlsZQ%3D%3D?line=0'>1</a>\u001b[0m user_input \u001b[39m=\u001b[39m \u001b[39minput\u001b[39;49m(\u001b[39m\"\u001b[39;49m\u001b[39mEnter Message: \u001b[39;49m\u001b[39m\"\u001b[39;49m)\n\u001b[0;32m      <a href='vscode-notebook-cell:/d%3A/humanAI/remembery.ipynb#X24sZmlsZQ%3D%3D?line=1'>2</a>\u001b[0m injected_memory \u001b[39m=\u001b[39m memory_find(\u001b[39m\"\u001b[39m\u001b[39mAustin:\u001b[39m\u001b[39m\"\u001b[39m \u001b[39m+\u001b[39m user_input)\n\u001b[0;32m      <a href='vscode-notebook-cell:/d%3A/humanAI/remembery.ipynb#X24sZmlsZQ%3D%3D?line=2'>3</a>\u001b[0m \u001b[39mprint\u001b[39m(injected_memory)\n",
      "File \u001b[1;32mc:\\Users\\Poppy\\instructblip-streamlit\\installer_files\\env\\lib\\site-packages\\ipykernel\\kernelbase.py:1177\u001b[0m, in \u001b[0;36mKernel.raw_input\u001b[1;34m(self, prompt)\u001b[0m\n\u001b[0;32m   1173\u001b[0m \u001b[39mif\u001b[39;00m \u001b[39mnot\u001b[39;00m \u001b[39mself\u001b[39m\u001b[39m.\u001b[39m_allow_stdin:\n\u001b[0;32m   1174\u001b[0m     \u001b[39mraise\u001b[39;00m StdinNotImplementedError(\n\u001b[0;32m   1175\u001b[0m         \u001b[39m\"\u001b[39m\u001b[39mraw_input was called, but this frontend does not support input requests.\u001b[39m\u001b[39m\"\u001b[39m\n\u001b[0;32m   1176\u001b[0m     )\n\u001b[1;32m-> 1177\u001b[0m \u001b[39mreturn\u001b[39;00m \u001b[39mself\u001b[39;49m\u001b[39m.\u001b[39;49m_input_request(\n\u001b[0;32m   1178\u001b[0m     \u001b[39mstr\u001b[39;49m(prompt),\n\u001b[0;32m   1179\u001b[0m     \u001b[39mself\u001b[39;49m\u001b[39m.\u001b[39;49m_parent_ident[\u001b[39m\"\u001b[39;49m\u001b[39mshell\u001b[39;49m\u001b[39m\"\u001b[39;49m],\n\u001b[0;32m   1180\u001b[0m     \u001b[39mself\u001b[39;49m\u001b[39m.\u001b[39;49mget_parent(\u001b[39m\"\u001b[39;49m\u001b[39mshell\u001b[39;49m\u001b[39m\"\u001b[39;49m),\n\u001b[0;32m   1181\u001b[0m     password\u001b[39m=\u001b[39;49m\u001b[39mFalse\u001b[39;49;00m,\n\u001b[0;32m   1182\u001b[0m )\n",
      "File \u001b[1;32mc:\\Users\\Poppy\\instructblip-streamlit\\installer_files\\env\\lib\\site-packages\\ipykernel\\kernelbase.py:1219\u001b[0m, in \u001b[0;36mKernel._input_request\u001b[1;34m(self, prompt, ident, parent, password)\u001b[0m\n\u001b[0;32m   1216\u001b[0m             \u001b[39mbreak\u001b[39;00m\n\u001b[0;32m   1217\u001b[0m \u001b[39mexcept\u001b[39;00m \u001b[39mKeyboardInterrupt\u001b[39;00m:\n\u001b[0;32m   1218\u001b[0m     \u001b[39m# re-raise KeyboardInterrupt, to truncate traceback\u001b[39;00m\n\u001b[1;32m-> 1219\u001b[0m     \u001b[39mraise\u001b[39;00m \u001b[39mKeyboardInterrupt\u001b[39;00m(\u001b[39m\"\u001b[39m\u001b[39mInterrupted by user\u001b[39m\u001b[39m\"\u001b[39m) \u001b[39mfrom\u001b[39;00m \u001b[39mNone\u001b[39;00m\n\u001b[0;32m   1220\u001b[0m \u001b[39mexcept\u001b[39;00m \u001b[39mException\u001b[39;00m:\n\u001b[0;32m   1221\u001b[0m     \u001b[39mself\u001b[39m\u001b[39m.\u001b[39mlog\u001b[39m.\u001b[39mwarning(\u001b[39m\"\u001b[39m\u001b[39mInvalid Message:\u001b[39m\u001b[39m\"\u001b[39m, exc_info\u001b[39m=\u001b[39m\u001b[39mTrue\u001b[39;00m)\n",
      "\u001b[1;31mKeyboardInterrupt\u001b[0m: Interrupted by user"
     ]
    }
   ],
   "source": [
    "user_input = input(\"Enter Message: \")\n",
    "injected_memory = memory_find(\"Austin:\" + user_input)\n",
    "print(injected_memory)"
   ]
  },
  {
   "cell_type": "code",
   "execution_count": 21,
   "metadata": {},
   "outputs": [
    {
     "data": {
      "text/plain": [
       "'You are a chatbot having a conversation with a human.\\n[Memory Austin: My Birtday is October 24th]\\n\\n{history}\\nAustin: {input}\\nChatbot:'"
      ]
     },
     "execution_count": 24,
     "metadata": {},
     "output_type": "execute_result"
    }
   ],
   "source": [
    "template = f\"\"\"You are a chatbot having a conversation with a human.\n",
    "{injected_memory}\n",
    "{{history}}\n",
    "Austin: {{input}}\n",
    "Chatbot:\"\"\"\n",
    "prompt = PromptTemplate(\n",
    "    input_variables=[\"history\",\"input\"], template=template\n",
    ")\n",
    "template"
   ]
  },
  {
   "cell_type": "markdown",
   "metadata": {},
   "source": [
    "## take user input"
   ]
  },
  {
   "cell_type": "code",
   "execution_count": 1,
   "metadata": {},
   "outputs": [
    {
     "ename": "NameError",
     "evalue": "name 'conversation' is not defined",
     "output_type": "error",
     "traceback": [
      "\u001b[1;31m---------------------------------------------------------------------------\u001b[0m",
      "\u001b[1;31mNameError\u001b[0m                                 Traceback (most recent call last)",
      "Cell \u001b[1;32mIn[1], line 1\u001b[0m\n\u001b[1;32m----> 1\u001b[0m conversation\u001b[39m.\u001b[39mpredict(\u001b[39minput\u001b[39m\u001b[39m=\u001b[39muser_input, stop\u001b[39m=\u001b[39m[\u001b[39m\"\u001b[39m\u001b[39m\\n\u001b[39;00m\u001b[39mAustin:\u001b[39m\u001b[39m\"\u001b[39m])\n",
      "\u001b[1;31mNameError\u001b[0m: name 'conversation' is not defined"
     ]
    }
   ],
   "source": [
    "conversation.predict(input=user_input, stop=[\"\\nAustin:\"])"
   ]
  },
  {
   "cell_type": "code",
   "execution_count": null,
   "metadata": {},
   "outputs": [],
   "source": []
  }
 ],
 "metadata": {
  "kernelspec": {
   "display_name": ".venv",
   "language": "python",
   "name": "python3"
  },
  "language_info": {
   "codemirror_mode": {
    "name": "ipython",
    "version": 3
   },
   "file_extension": ".py",
   "mimetype": "text/x-python",
   "name": "python",
   "nbconvert_exporter": "python",
   "pygments_lexer": "ipython3",
   "version": "3.10.12"
  },
  "orig_nbformat": 4
 },
 "nbformat": 4,
 "nbformat_minor": 2
}
