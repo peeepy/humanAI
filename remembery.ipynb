{
 "cells": [
  {
   "cell_type": "markdown",
   "metadata": {},
   "source": [
    "# Vector DB used as Memory Demo"
   ]
  },
  {
   "cell_type": "code",
   "execution_count": 9,
   "metadata": {},
   "outputs": [],
   "source": [
    "from modules.memory import Memory"
   ]
  },
  {
   "cell_type": "code",
   "execution_count": 10,
   "metadata": {},
   "outputs": [
    {
     "name": "stdout",
     "output_type": "stream",
     "text": [
      "Collection 'my_collection' is ready.\n"
     ]
    }
   ],
   "source": [
    "memories = Memory(name=\"my_collection\", db_directory=\"my_db_directory\")"
   ]
  },
  {
   "cell_type": "markdown",
   "metadata": {},
   "source": [
    "# Add memories"
   ]
  },
  {
   "cell_type": "code",
   "execution_count": 11,
   "metadata": {},
   "outputs": [
    {
     "name": "stderr",
     "output_type": "stream",
     "text": [
      "Number of requested results 5 is greater than number of elements in index 3, updating n_results = 3\n",
      "Number of requested results 5 is greater than number of elements in index 3, updating n_results = 3\n",
      "Number of requested results 5 is greater than number of elements in index 3, updating n_results = 3\n"
     ]
    },
    {
     "name": "stdout",
     "output_type": "stream",
     "text": [
      "Message 'Austin: My Birtday is October 24th' is already in database. Skipped.\n",
      "Message 'Austin: I work at a car Auction as an IT Guy' is already in database. Skipped.\n",
      "Message 'Austin: My favorite food is Steak' is already in database. Skipped.\n"
     ]
    }
   ],
   "source": [
    "# # Save some messages to the database\n",
    "messages = [\"Austin: My Birtday is October 24th\", \"Austin: I work at a car Auction as an IT Guy\", \"Austin: My favorite food is Steak\"]\n",
    "memories.save_messages_to_db(messages)"
   ]
  },
  {
   "cell_type": "markdown",
   "metadata": {},
   "source": [
    "# Query the database"
   ]
  },
  {
   "cell_type": "code",
   "execution_count": 12,
   "metadata": {},
   "outputs": [
    {
     "name": "stderr",
     "output_type": "stream",
     "text": [
      "Number of requested results 5 is greater than number of elements in index 3, updating n_results = 3\n"
     ]
    },
    {
     "name": "stdout",
     "output_type": "stream",
     "text": [
      "Query results for 'Austin: Do you know my birtday?': {'ids': [['id3011cfdb-bbca-4f4d-b565-e822b3607326', 'ida1d8a66e-2f1b-4a1e-b49b-9d467017942b', 'idbdcfd323-e1fe-47c5-a114-19041d3f7ffc']], 'embeddings': None, 'documents': [['Austin: My Birtday is October 24th', 'Austin: My favorite food is Steak', 'Austin: I work at a car Auction as an IT Guy']], 'metadatas': [[None, None, None]], 'distances': [[0.36301612854003906, 0.9841171503067017, 1.0845710039138794]]}\n"
     ]
    }
   ],
   "source": [
    "query_text = \"Austin: Do you know my birtday?\"\n",
    "results = memories.query_db(query_text)\n",
    "print(f\"Query results for '{query_text}': {results}\")"
   ]
  },
  {
   "cell_type": "code",
   "execution_count": 13,
   "metadata": {},
   "outputs": [
    {
     "name": "stderr",
     "output_type": "stream",
     "text": [
      "Number of requested results 5 is greater than number of elements in index 3, updating n_results = 3\n"
     ]
    },
    {
     "data": {
      "text/plain": [
       "'Austin: My Birtday is October 24th'"
      ]
     },
     "execution_count": 13,
     "metadata": {},
     "output_type": "execute_result"
    }
   ],
   "source": [
    "results_with_cutoff = memories.query_with_cutoff(\"Austin: When is my birthday?\", 0.5)\n",
    "results_with_cutoff"
   ]
  },
  {
   "cell_type": "code",
   "execution_count": 14,
   "metadata": {},
   "outputs": [
    {
     "name": "stdout",
     "output_type": "stream",
     "text": [
      "Austin asked:\n",
      "Austin: Do you know my birtday? \n",
      "Remembered:\n",
      "Austin: My Birtday is October 24th\n"
     ]
    }
   ],
   "source": [
    "first_result = results['documents'][0][0]\n",
    "print(f\"Austin asked:\\n{query_text} \\nRemembered:\\n{first_result}\")\n"
   ]
  },
  {
   "cell_type": "code",
   "execution_count": 15,
   "metadata": {},
   "outputs": [],
   "source": [
    "def query_with_cutoff(self, query_text, cutoff):\n",
    "    results = self.query_db(query_text)\n",
    "    if not results or not results['distances']:\n",
    "        return \"Nothing found.\"\n",
    "\n",
    "    closest_distance = results['distances'][0][0]\n",
    "    if closest_distance > cutoff:\n",
    "        return \"Nothing found.\"\n",
    "\n",
    "    closest_result = results['documents'][0][0]\n",
    "    return closest_result\n"
   ]
  },
  {
   "cell_type": "code",
   "execution_count": 16,
   "metadata": {},
   "outputs": [],
   "source": [
    "# import wrapper\n",
    "from langchain.llms import TextGen\n",
    "from langchain.memory import ConversationBufferMemory\n",
    "from langchain import PromptTemplate\n",
    "from langchain.chains import (\n",
    "    ConversationChain\n",
    ")"
   ]
  },
  {
   "cell_type": "code",
   "execution_count": 17,
   "metadata": {},
   "outputs": [],
   "source": [
    "# create instance with your endpoint\n",
    "llm = TextGen(model_url=\"https://computing-bond-il-inputs.trycloudflare.com/\")"
   ]
  },
  {
   "cell_type": "code",
   "execution_count": 18,
   "metadata": {},
   "outputs": [
    {
     "name": "stdout",
     "output_type": "stream",
     "text": [
      "Question: What is the capital of France?\n",
      "Answer: The capital city of France is Paris.\n"
     ]
    },
    {
     "data": {
      "text/plain": [
       "' The capital city of France is Paris.'"
      ]
     },
     "execution_count": 18,
     "metadata": {},
     "output_type": "execute_result"
    }
   ],
   "source": [
    "llm(\"Question: What is the capital of France?\\nAnswer:\")"
   ]
  },
  {
   "cell_type": "code",
   "execution_count": 9,
   "metadata": {},
   "outputs": [],
   "source": [
    "injected_memory = \"\"\n",
    "template = f\"\"\"You are a chatbot having a conversation with a human.\n",
    "{injected_memory}\n",
    "{{history}}\n",
    "Austin: {{input}}\n",
    "Chatbot:\"\"\""
   ]
  },
  {
   "cell_type": "code",
   "execution_count": 10,
   "metadata": {},
   "outputs": [],
   "source": [
    "#function that will query the memory object db for the user's input and return the results if found. If not found, it will return an empty string.\n",
    "def memory_find(query_text):\n",
    "    results = memories.query_db(query_text)\n",
    "    if results:\n",
    "        result = f\"[Memory - {results['documents'][0][0]}]\\n\"\n",
    "        return result\n",
    "    else:\n",
    "        return \"\"\n",
    "    "
   ]
  },
  {
   "cell_type": "code",
   "execution_count": 20,
   "metadata": {},
   "outputs": [],
   "source": [
    "memory = ConversationBufferMemory(input_key=\"history\", human_prefix=\"Austin\")"
   ]
  },
  {
   "cell_type": "code",
   "execution_count": 21,
   "metadata": {},
   "outputs": [],
   "source": [
    "\n",
    "prompt = PromptTemplate(\n",
    "    input_variables=[\"history\",\"input\"], template=template\n",
    ")"
   ]
  },
  {
   "cell_type": "code",
   "execution_count": 22,
   "metadata": {},
   "outputs": [],
   "source": [
    " # Create a conversation chain using the channel-specific memory\n",
    "conversation = ConversationChain(\n",
    "    prompt=prompt,\n",
    "    llm=llm,\n",
    "    verbose=True,\n",
    "    memory=memory,\n",
    ")"
   ]
  },
  {
   "cell_type": "code",
   "execution_count": 23,
   "metadata": {},
   "outputs": [
    {
     "name": "stderr",
     "output_type": "stream",
     "text": [
      "Number of requested results 5 is greater than number of elements in index 3, updating n_results = 3\n"
     ]
    },
    {
     "name": "stdout",
     "output_type": "stream",
     "text": [
      "[Memory Austin: My Birtday is October 24th]\n",
      "\n"
     ]
    }
   ],
   "source": [
    "user_input = input(\"Enter Message: \")\n",
    "injected_memory = memory_find(\"Austin:\" + user_input)\n",
    "print(injected_memory)"
   ]
  },
  {
   "cell_type": "code",
   "execution_count": 24,
   "metadata": {},
   "outputs": [
    {
     "data": {
      "text/plain": [
       "'You are a chatbot having a conversation with a human.\\n[Memory Austin: My Birtday is October 24th]\\n\\n{history}\\nAustin: {input}\\nChatbot:'"
      ]
     },
     "execution_count": 24,
     "metadata": {},
     "output_type": "execute_result"
    }
   ],
   "source": [
    "template = f\"\"\"You are a chatbot having a conversation with a human.\n",
    "{injected_memory}\n",
    "{{history}}\n",
    "Austin: {{input}}\n",
    "Chatbot:\"\"\"\n",
    "prompt = PromptTemplate(\n",
    "    input_variables=[\"history\",\"input\"], template=template\n",
    ")\n",
    "template"
   ]
  },
  {
   "cell_type": "markdown",
   "metadata": {},
   "source": [
    "## take user input"
   ]
  },
  {
   "cell_type": "code",
   "execution_count": 1,
   "metadata": {},
   "outputs": [
    {
     "ename": "NameError",
     "evalue": "name 'conversation' is not defined",
     "output_type": "error",
     "traceback": [
      "\u001b[1;31m---------------------------------------------------------------------------\u001b[0m",
      "\u001b[1;31mNameError\u001b[0m                                 Traceback (most recent call last)",
      "Cell \u001b[1;32mIn[1], line 1\u001b[0m\n\u001b[1;32m----> 1\u001b[0m conversation\u001b[39m.\u001b[39mpredict(\u001b[39minput\u001b[39m\u001b[39m=\u001b[39muser_input, stop\u001b[39m=\u001b[39m[\u001b[39m\"\u001b[39m\u001b[39m\\n\u001b[39;00m\u001b[39mAustin:\u001b[39m\u001b[39m\"\u001b[39m])\n",
      "\u001b[1;31mNameError\u001b[0m: name 'conversation' is not defined"
     ]
    }
   ],
   "source": [
    "conversation.predict(input=user_input, stop=[\"\\nAustin:\"])"
   ]
  },
  {
   "cell_type": "code",
   "execution_count": null,
   "metadata": {},
   "outputs": [],
   "source": []
  }
 ],
 "metadata": {
  "kernelspec": {
   "display_name": ".venv",
   "language": "python",
   "name": "python3"
  },
  "language_info": {
   "codemirror_mode": {
    "name": "ipython",
    "version": 3
   },
   "file_extension": ".py",
   "mimetype": "text/x-python",
   "name": "python",
   "nbconvert_exporter": "python",
   "pygments_lexer": "ipython3",
   "version": "3.10.9"
  },
  "orig_nbformat": 4
 },
 "nbformat": 4,
 "nbformat_minor": 2
}
